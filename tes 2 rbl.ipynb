{
 "cells": [
  {
   "cell_type": "code",
   "execution_count": 15,
   "id": "fbe562b7",
   "metadata": {},
   "outputs": [],
   "source": [
    "# general lib\n",
    "import pandas as pd\n",
    "import matplotlib.pyplot as plt\n",
    "import numpy as np\n",
    "\n",
    "# fuzzy\n",
    "import skfuzzy as fuzz\n",
    "from skfuzzy import control as ctrl\n",
    "\n",
    "# time ani\n",
    "import time"
   ]
  },
  {
   "cell_type": "code",
   "execution_count": 6,
   "id": "892d6d67",
   "metadata": {},
   "outputs": [
    {
     "name": "stdout",
     "output_type": "stream",
     "text": [
      "       timestamp  open   low  high  close    volume\n",
      "4882  2020-01-01  6680  6670  6720   6685         0\n",
      "4883  2020-01-02  6695  6680  6780   6690  49445000\n",
      "4884  2020-01-03  6750  6725  6800   6800  47755500\n",
      "4885  2020-01-06  6720  6690  6750   6735  27300000\n",
      "4886  2020-01-07  6735  6730  6770   6740  45022500\n",
      "       timestamp  open   low  high  close    volume\n",
      "5140  2020-12-28  6790  6660  6820   6780  60234000\n",
      "5141  2020-12-29  6775  6740  6810   6765  34212500\n",
      "5142  2020-12-30  6800  6700  6800   6770  52675500\n",
      "5143  2020-12-31  6800  6700  6800   6770         0\n",
      "5144  2021-01-01  6800  6700  6800   6770         0\n",
      "4882    6685\n",
      "4883    6690\n",
      "4884    6800\n",
      "4885    6735\n",
      "4886    6740\n",
      "        ... \n",
      "5140    6780\n",
      "5141    6765\n",
      "5142    6770\n",
      "5143    6770\n",
      "5144    6770\n",
      "Name: close, Length: 263, dtype: int64\n",
      "[6685, 6690, 6800, 6735, 6740, 6680, 6740, 6725, 6745, 6870, 6835, 6850, 6875, 6835, 6830, 6840, 6840, 6810, 6840, 6790, 6785, 6740, 6480, 6440, 6600, 6730, 6740, 6760, 6785, 6780, 6800, 6790, 6680, 6720, 6695, 6695, 6595, 6615, 6525, 6530, 6420, 6290, 6290, 6080, 6320, 6440, 6435, 6200, 5785, 5925, 5850, 5560, 5560, 5560, 5120, 5000, 4650, 4735, 4430, 4500, 4500, 5280, 5510, 5495, 5525, 5480, 5410, 5495, 5735, 5655, 5635, 5595, 5595, 5500, 5515, 5485, 5240, 5425, 5355, 5160, 5145, 5120, 4920, 4960, 4830, 4850, 5170, 5170, 5220, 5285, 5355, 5355, 5245, 5295, 5220, 5110, 4920, 4785, 4765, 4680, 4765, 4765, 4765, 4765, 4970, 4965, 5295, 5190, 5190, 5360, 5780, 5790, 5725, 5900, 5805, 5800, 5680, 5670, 5500, 5760, 5720, 5585, 5575, 5540, 5620, 5705, 5725, 5645, 5675, 5695, 5800, 5870, 5870, 5935, 5990, 6200, 6100, 6200, 6175, 6200, 6150, 6180, 6120, 6140, 6200, 6180, 6200, 6100, 6100, 6185, 6135, 6240, 6240, 6130, 6210, 6205, 6260, 6180, 6120, 6175, 6260, 6300, 6405, 6405, 6360, 6330, 6330, 6330, 6315, 6365, 6340, 6600, 6495, 6275, 6520, 6435, 6500, 6380, 6285, 6335, 6245, 5810, 5905, 6050, 5860, 5750, 5755, 5630, 5605, 5450, 5505, 5445, 5610, 5515, 5505, 5420, 5570, 5505, 5520, 5700, 5755, 5780, 5775, 5855, 5855, 5900, 5785, 5760, 5900, 5805, 5780, 5800, 5770, 5815, 5790, 5790, 5790, 5790, 5820, 5890, 5820, 6150, 6300, 6285, 6480, 6540, 6420, 6390, 6480, 6550, 6570, 6615, 6600, 6600, 6565, 6410, 6480, 6385, 6205, 6395, 6450, 6460, 6390, 6520, 6490, 6490, 6575, 6735, 6820, 6790, 6950, 6935, 6800, 6830, 6715, 6725, 6725, 6725, 6780, 6765, 6770, 6770, 6770]\n"
     ]
    }
   ],
   "source": [
    "# data and smol klining\n",
    "df = pd.read_csv(\"BBCA.csv\")\n",
    "\n",
    "df1 = df.iloc[4882:5145]\n",
    "print(df1.head())\n",
    "print(df1.tail())\n",
    "\n",
    "df_pakai = df1['close']\n",
    "print(df_pakai)\n",
    "df_pakai = df_pakai.values.tolist()\n",
    "print(df_pakai)"
   ]
  },
  {
   "cell_type": "code",
   "execution_count": 13,
   "id": "13c6ae98",
   "metadata": {},
   "outputs": [
    {
     "name": "stdout",
     "output_type": "stream",
     "text": [
      "[6685, 6690, 6800, 6735, 6740, 6680, 6740, 6725, 6745, 6870, 6835, 6850, 6875, 6835, 6830, 6840, 6840, 6810, 6840, 6790, 6785, 6740, 6480, 6440, 6600, 6730, 6740, 6760, 6785, 6780, 6800, 6790, 6680, 6720, 6695, 6695, 6595, 6615, 6525, 6530, 6420, 6290, 6290, 6080, 6320, 6440, 6435, 6200, 5785, 5925, 5850, 5560, 5560, 5560, 5120, 5000, 4650, 4735, 4430, 4500, 4500, 5280, 5510, 5495, 5525, 5480, 5410, 5495, 5735, 5655, 5635, 5595, 5595, 5500, 5515, 5485, 5240, 5425, 5355, 5160, 5145, 5120, 4920, 4960, 4830, 4850, 5170, 5170, 5220, 5285, 5355, 5355, 5245, 5295, 5220, 5110, 4920, 4785, 4765, 4680]\n",
      "[5635, 5595, 5595, 5500, 5515, 5485, 5240, 5425, 5355, 5160, 5145, 5120, 4920, 4960, 4830, 4850, 5170, 5170, 5220, 5285, 5355, 5355, 5245, 5295, 5220, 5110, 4920, 4785, 4765, 4680]\n"
     ]
    }
   ],
   "source": [
    "# inisiasi global dan lokal\n",
    "\n",
    "df_global = []\n",
    "i = 0\n",
    "while i < 100:\n",
    "    df_global.append(df_pakai[i])\n",
    "    i += 1\n",
    "print(df_global)\n",
    "\n",
    "df_lokal = []\n",
    "i = 30\n",
    "while i > 0:\n",
    "    df_lokal.append(df_global[len(df_global)-i])\n",
    "    i -= 1\n",
    "    \n",
    "print(df_lokal)"
   ]
  },
  {
   "cell_type": "code",
   "execution_count": 20,
   "id": "09e91f5e",
   "metadata": {},
   "outputs": [
    {
     "ename": "ValueError",
     "evalue": "Crisp output cannot be calculated, likely because the system is too sparse. Check to make sure this set of input values will activate at least one connected Term in each Antecedent via the current set of Rules.",
     "output_type": "error",
     "traceback": [
      "\u001b[1;31m---------------------------------------------------------------------------\u001b[0m",
      "\u001b[1;31mAssertionError\u001b[0m                            Traceback (most recent call last)",
      "\u001b[1;32m~\\anaconda3\\lib\\site-packages\\skfuzzy\\control\\controlsystem.py\u001b[0m in \u001b[0;36mdefuzz\u001b[1;34m(self)\u001b[0m\n\u001b[0;32m    585\u001b[0m             \u001b[1;32mtry\u001b[0m\u001b[1;33m:\u001b[0m\u001b[1;33m\u001b[0m\u001b[1;33m\u001b[0m\u001b[0m\n\u001b[1;32m--> 586\u001b[1;33m                 return defuzz(ups_universe, output_mf,\n\u001b[0m\u001b[0;32m    587\u001b[0m                               self.var.defuzzify_method)\n",
      "\u001b[1;32m~\\anaconda3\\lib\\site-packages\\skfuzzy\\defuzzify\\defuzz.py\u001b[0m in \u001b[0;36mdefuzz\u001b[1;34m(x, mfx, mode)\u001b[0m\n\u001b[0;32m    247\u001b[0m         \u001b[0mzero_truth_degree\u001b[0m \u001b[1;33m=\u001b[0m \u001b[0mmfx\u001b[0m\u001b[1;33m.\u001b[0m\u001b[0msum\u001b[0m\u001b[1;33m(\u001b[0m\u001b[1;33m)\u001b[0m \u001b[1;33m==\u001b[0m \u001b[1;36m0\u001b[0m  \u001b[1;31m# Approximation of total area\u001b[0m\u001b[1;33m\u001b[0m\u001b[1;33m\u001b[0m\u001b[0m\n\u001b[1;32m--> 248\u001b[1;33m         \u001b[1;32massert\u001b[0m \u001b[1;32mnot\u001b[0m \u001b[0mzero_truth_degree\u001b[0m\u001b[1;33m,\u001b[0m \u001b[1;34m'Total area is zero in defuzzification!'\u001b[0m\u001b[1;33m\u001b[0m\u001b[1;33m\u001b[0m\u001b[0m\n\u001b[0m\u001b[0;32m    249\u001b[0m \u001b[1;33m\u001b[0m\u001b[0m\n",
      "\u001b[1;31mAssertionError\u001b[0m: Total area is zero in defuzzification!",
      "\nDuring handling of the above exception, another exception occurred:\n",
      "\u001b[1;31mValueError\u001b[0m                                Traceback (most recent call last)",
      "\u001b[1;32m~\\AppData\\Local\\Temp/ipykernel_17428/3989823250.py\u001b[0m in \u001b[0;36m<module>\u001b[1;34m\u001b[0m\n\u001b[0;32m     58\u001b[0m \u001b[1;33m\u001b[0m\u001b[0m\n\u001b[0;32m     59\u001b[0m     \u001b[1;31m# Compute the decision and place it in list\u001b[0m\u001b[1;33m\u001b[0m\u001b[1;33m\u001b[0m\u001b[0m\n\u001b[1;32m---> 60\u001b[1;33m     \u001b[0mdecision_calc\u001b[0m\u001b[1;33m.\u001b[0m\u001b[0mcompute\u001b[0m\u001b[1;33m(\u001b[0m\u001b[1;33m)\u001b[0m\u001b[1;33m\u001b[0m\u001b[1;33m\u001b[0m\u001b[0m\n\u001b[0m\u001b[0;32m     61\u001b[0m     \u001b[0mfuzzy\u001b[0m\u001b[1;33m.\u001b[0m\u001b[0mappend\u001b[0m\u001b[1;33m(\u001b[0m\u001b[0mdecision_calc\u001b[0m\u001b[1;33m.\u001b[0m\u001b[0moutput\u001b[0m\u001b[1;33m[\u001b[0m\u001b[1;34m'decision'\u001b[0m\u001b[1;33m]\u001b[0m\u001b[1;33m)\u001b[0m\u001b[1;33m\u001b[0m\u001b[1;33m\u001b[0m\u001b[0m\n\u001b[0;32m     62\u001b[0m \u001b[1;33m\u001b[0m\u001b[0m\n",
      "\u001b[1;32m~\\anaconda3\\lib\\site-packages\\skfuzzy\\control\\controlsystem.py\u001b[0m in \u001b[0;36mcompute\u001b[1;34m(self)\u001b[0m\n\u001b[0;32m    371\u001b[0m         \u001b[1;32mfor\u001b[0m \u001b[0mconsequent\u001b[0m \u001b[1;32min\u001b[0m \u001b[0mself\u001b[0m\u001b[1;33m.\u001b[0m\u001b[0mctrl\u001b[0m\u001b[1;33m.\u001b[0m\u001b[0mconsequents\u001b[0m\u001b[1;33m:\u001b[0m\u001b[1;33m\u001b[0m\u001b[1;33m\u001b[0m\u001b[0m\n\u001b[0;32m    372\u001b[0m             \u001b[0mconsequent\u001b[0m\u001b[1;33m.\u001b[0m\u001b[0moutput\u001b[0m\u001b[1;33m[\u001b[0m\u001b[0mself\u001b[0m\u001b[1;33m]\u001b[0m \u001b[1;33m=\u001b[0m\u001b[0;31m \u001b[0m\u001b[0;31m\\\u001b[0m\u001b[1;33m\u001b[0m\u001b[1;33m\u001b[0m\u001b[0m\n\u001b[1;32m--> 373\u001b[1;33m                 \u001b[0mCrispValueCalculator\u001b[0m\u001b[1;33m(\u001b[0m\u001b[0mconsequent\u001b[0m\u001b[1;33m,\u001b[0m \u001b[0mself\u001b[0m\u001b[1;33m)\u001b[0m\u001b[1;33m.\u001b[0m\u001b[0mdefuzz\u001b[0m\u001b[1;33m(\u001b[0m\u001b[1;33m)\u001b[0m\u001b[1;33m\u001b[0m\u001b[1;33m\u001b[0m\u001b[0m\n\u001b[0m\u001b[0;32m    374\u001b[0m             \u001b[0mself\u001b[0m\u001b[1;33m.\u001b[0m\u001b[0moutput\u001b[0m\u001b[1;33m[\u001b[0m\u001b[0mconsequent\u001b[0m\u001b[1;33m.\u001b[0m\u001b[0mlabel\u001b[0m\u001b[1;33m]\u001b[0m \u001b[1;33m=\u001b[0m \u001b[0mconsequent\u001b[0m\u001b[1;33m.\u001b[0m\u001b[0moutput\u001b[0m\u001b[1;33m[\u001b[0m\u001b[0mself\u001b[0m\u001b[1;33m]\u001b[0m\u001b[1;33m\u001b[0m\u001b[1;33m\u001b[0m\u001b[0m\n\u001b[0;32m    375\u001b[0m \u001b[1;33m\u001b[0m\u001b[0m\n",
      "\u001b[1;32m~\\anaconda3\\lib\\site-packages\\skfuzzy\\control\\controlsystem.py\u001b[0m in \u001b[0;36mdefuzz\u001b[1;34m(self)\u001b[0m\n\u001b[0;32m    587\u001b[0m                               self.var.defuzzify_method)\n\u001b[0;32m    588\u001b[0m             \u001b[1;32mexcept\u001b[0m \u001b[0mAssertionError\u001b[0m\u001b[1;33m:\u001b[0m\u001b[1;33m\u001b[0m\u001b[1;33m\u001b[0m\u001b[0m\n\u001b[1;32m--> 589\u001b[1;33m                 raise ValueError(\"Crisp output cannot be calculated, likely \"\n\u001b[0m\u001b[0;32m    590\u001b[0m                                  \u001b[1;34m\"because the system is too sparse. Check to \"\u001b[0m\u001b[1;33m\u001b[0m\u001b[1;33m\u001b[0m\u001b[0m\n\u001b[0;32m    591\u001b[0m                                  \u001b[1;34m\"make sure this set of input values will \"\u001b[0m\u001b[1;33m\u001b[0m\u001b[1;33m\u001b[0m\u001b[0m\n",
      "\u001b[1;31mValueError\u001b[0m: Crisp output cannot be calculated, likely because the system is too sparse. Check to make sure this set of input values will activate at least one connected Term in each Antecedent via the current set of Rules."
     ]
    }
   ],
   "source": [
    "# hasil fuzzy\n",
    "\n",
    "fuzzy = []\n",
    "\n",
    "# loop\n",
    "\n",
    "i = len(df_global)\n",
    "while i < len(df_pakai):\n",
    "    \n",
    "    # update dulu\n",
    "    df_global.append(df_pakai[i])\n",
    "    del df_lokal[0]\n",
    "    df_lokal.append(df_global[-1])\n",
    "    \n",
    "    # fibonacci\n",
    "    max_global = max(df_global)\n",
    "    min_global = min(df_global)\n",
    "    fib_global = abs(df_global[-1]-0.618*(max_global-min_global))/(0.618*(max_global-min_global))*100\n",
    "    \n",
    "    max_lokal = max(df_lokal)\n",
    "    min_lokal = min(df_lokal)\n",
    "    fib_lokal = abs(df_lokal[-1]-0.618*(max_lokal-min_lokal))/(0.618*(max_lokal-min_lokal))*100\n",
    "    \n",
    "    # fuzzy logic\n",
    "    # Create the fuzzy variables and membership functions\n",
    "    fibonacci_retracement_global = ctrl.Antecedent(np.arange(0, 101, 1), 'fibonacci_retracement_global')\n",
    "    fibonacci_retracement_lokal = ctrl.Antecedent(np.arange(0, 101, 1), 'fibonacci_retracement_lokal')\n",
    "    decision = ctrl.Consequent(np.arange(0, 101, 1), 'decision')\n",
    "    \n",
    "    \n",
    "    # Define the membership functions for the variables\n",
    "    fibonacci_retracement_global['close'] = fuzz.trimf(fibonacci_retracement_global.universe, [0, 0, 30])\n",
    "    fibonacci_retracement_global['medium'] = fuzz.trimf(fibonacci_retracement_global.universe, [0, 30, 70])\n",
    "    fibonacci_retracement_global['far'] = fuzz.trimf(fibonacci_retracement_global.universe, [30, 70, 100])\n",
    "    \n",
    "    fibonacci_retracement_lokal['close'] = fuzz.trimf(fibonacci_retracement_lokal.universe, [0, 0, 30])\n",
    "    fibonacci_retracement_lokal['medium'] = fuzz.trimf(fibonacci_retracement_lokal.universe, [0, 30, 70])\n",
    "    fibonacci_retracement_lokal['far'] = fuzz.trimf(fibonacci_retracement_lokal.universe, [30, 70, 100])\n",
    "    \n",
    "    decision['sell'] = fuzz.trimf(decision.universe, [0, 0, 50])\n",
    "    decision['neutral'] = fuzz.trimf(decision.universe, [0, 50, 100])\n",
    "    decision['buy'] = fuzz.trimf(decision.universe, [50, 100, 100])\n",
    "    \n",
    "    # Define the fuzzy rules to be updated as times goes on\n",
    "    rules = [\n",
    "        ctrl.Rule(fibonacci_retracement_global['close'] | fibonacci_retracement_lokal['close'], decision['buy']),\n",
    "        ctrl.Rule(fibonacci_retracement_global['medium'] | fibonacci_retracement_lokal['medium'], decision['neutral']),\n",
    "        ctrl.Rule(fibonacci_retracement_global['far'] | fibonacci_retracement_lokal['far'], decision['sell'])\n",
    "    ]\n",
    "    \n",
    "    # Create the fuzzy control system\n",
    "    decision_ctrl = ctrl.ControlSystem(rules)\n",
    "    decision_calc = ctrl.ControlSystemSimulation(decision_ctrl)\n",
    "    \n",
    "    # Pass inputs and compute the decision\n",
    "    decision_calc.input['fibonacci_retracement_global'] = fib_global\n",
    "    decision_calc.input['fibonacci_retracement_lokal'] = fib_lokal\n",
    "    \n",
    "    # Compute the decision and place it in list\n",
    "    decision_calc.compute()\n",
    "    fuzzy.append(decision_calc.output['decision'])\n",
    "    \n",
    "    # loop control\n",
    "    i += 1"
   ]
  }
 ],
 "metadata": {
  "kernelspec": {
   "display_name": "Python 3 (ipykernel)",
   "language": "python",
   "name": "python3"
  },
  "language_info": {
   "codemirror_mode": {
    "name": "ipython",
    "version": 3
   },
   "file_extension": ".py",
   "mimetype": "text/x-python",
   "name": "python",
   "nbconvert_exporter": "python",
   "pygments_lexer": "ipython3",
   "version": "3.9.7"
  }
 },
 "nbformat": 4,
 "nbformat_minor": 5
}
